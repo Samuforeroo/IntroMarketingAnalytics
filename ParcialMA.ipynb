{
  "cells": [
    {
      "cell_type": "markdown",
      "metadata": {
        "id": "favnf6_vZHN1"
      },
      "source": [
        "# Análisis de Datos de Seguros - Enfoque Step-by-Step y Caso de Negocio\n",
        "\n",
        "Este notebook está diseñado para que resuelvas problemas paso a paso utilizando Python (usando funciones básicas como .mean(), filtros, value_counts y groupby) y que puedas comparar los resultados con el objetivo propuesto. Además, se plantea un caso de negocio ficticio en el que se asigna un gasto en marketing (CAC) para evaluar la rentabilidad y tomar decisiones estratégicas.\n",
        "\n",
        "El objetivo es evaluar tu habilidad para:\n",
        "- Explorar y analizar datos en Python.\n",
        "- Resolver problemas de análisis paso a paso.\n",
        "- Comparar resultados con objetivos estratégicos.\n",
        "- Formular conclusiones y recomendaciones basadas en los datos.\n",
        "\n",
        "¡Comencemos!"
      ]
    },
    {
      "cell_type": "code",
      "source": [
        "!wget https://github.com/javierherrera1996/IntroMarketingAnalytics/raw/refs/heads/main/PrimerCorte/WA_Fn-UseC_-Marketing-Customer-Value-Analysis.csv.zip\n",
        "!unzip WA_Fn-UseC_-Marketing-Customer-Value-Analysis.csv.zip"
      ],
      "metadata": {
        "colab": {
          "base_uri": "https://localhost:8080/"
        },
        "id": "-Uz11EAcZJMF",
        "outputId": "49b39f15-3b36-4e4a-f141-947bddb5162c"
      },
      "execution_count": 1,
      "outputs": [
        {
          "output_type": "stream",
          "name": "stdout",
          "text": [
            "--2025-03-12 23:13:45--  https://github.com/javierherrera1996/IntroMarketingAnalytics/raw/refs/heads/main/PrimerCorte/WA_Fn-UseC_-Marketing-Customer-Value-Analysis.csv.zip\n",
            "Resolving github.com (github.com)... 140.82.112.4\n",
            "Connecting to github.com (github.com)|140.82.112.4|:443... connected.\n",
            "HTTP request sent, awaiting response... 302 Found\n",
            "Location: https://raw.githubusercontent.com/javierherrera1996/IntroMarketingAnalytics/refs/heads/main/PrimerCorte/WA_Fn-UseC_-Marketing-Customer-Value-Analysis.csv.zip [following]\n",
            "--2025-03-12 23:13:46--  https://raw.githubusercontent.com/javierherrera1996/IntroMarketingAnalytics/refs/heads/main/PrimerCorte/WA_Fn-UseC_-Marketing-Customer-Value-Analysis.csv.zip\n",
            "Resolving raw.githubusercontent.com (raw.githubusercontent.com)... 185.199.108.133, 185.199.109.133, 185.199.110.133, ...\n",
            "Connecting to raw.githubusercontent.com (raw.githubusercontent.com)|185.199.108.133|:443... connected.\n",
            "HTTP request sent, awaiting response... 200 OK\n",
            "Length: 352796 (345K) [application/zip]\n",
            "Saving to: ‘WA_Fn-UseC_-Marketing-Customer-Value-Analysis.csv.zip’\n",
            "\n",
            "WA_Fn-UseC_-Marketi 100%[===================>] 344.53K  --.-KB/s    in 0.05s   \n",
            "\n",
            "2025-03-12 23:13:46 (7.47 MB/s) - ‘WA_Fn-UseC_-Marketing-Customer-Value-Analysis.csv.zip’ saved [352796/352796]\n",
            "\n",
            "Archive:  WA_Fn-UseC_-Marketing-Customer-Value-Analysis.csv.zip\n",
            "  inflating: WA_Fn-UseC_-Marketing-Customer-Value-Analysis.csv  \n"
          ]
        }
      ]
    },
    {
      "cell_type": "markdown",
      "metadata": {
        "id": "rue7hNYKZHN4"
      },
      "source": [
        "## Paso 1: Exploración Inicial del Dataset\n",
        "1. Carga el dataset `WA_Fn-UseC_-Marketing-Customer-Value-Analysis.csv`.\n",
        "2. Revisa las primeras filas, dimensiones y la información general del dataset.\n",
        "\n",
        "_Observa la estructura de los datos: ¿Qué columnas tienes? ¿Se nota algún dato atípico?_"
      ]
    },
    {
      "cell_type": "code",
      "execution_count": 2,
      "metadata": {
        "id": "kFhepnyQZHN5"
      },
      "outputs": [],
      "source": [
        "# Cargar el dataset y ver primeras filas\n",
        "import pandas as pd\n",
        "import numpy as np\n",
        "\n",
        "df = pd.read_csv('WA_Fn-UseC_-Marketing-Customer-Value-Analysis.csv')\n",
        "pd.set_option('display.max_columns', None)\n"
      ]
    },
    {
      "cell_type": "markdown",
      "metadata": {
        "id": "QfxdKxY6ZHN5"
      },
      "source": [
        "## Paso 2: Análisis del Customer Lifetime Value (CLV)\n",
        "1. Calcula el CLV promedio y su desviación estándar.\n",
        "2. Reflexiona: ¿Qué indica una alta desviación? ¿Podrían existir segmentos de clientes con comportamientos muy distintos?"
      ]
    },
    {
      "cell_type": "code",
      "execution_count": 77,
      "metadata": {
        "id": "BH6qM6SwZHN6",
        "outputId": "664541c2-d789-4a73-91e5-3c77b1ad5ff8",
        "colab": {
          "base_uri": "https://localhost:8080/"
        }
      },
      "outputs": [
        {
          "output_type": "stream",
          "name": "stdout",
          "text": [
            "8004.940474987081\n",
            "6870.967608356924\n"
          ]
        }
      ],
      "source": [
        "clv_mean = df['Customer Lifetime Value'].mean()\n",
        "print(clv_mean)\n",
        "\n",
        "clv_std = df['Customer Lifetime Value'].std()\n",
        "print(clv_std)"
      ]
    },
    {
      "cell_type": "markdown",
      "source": [
        "# **Una alta desviaciòn indica que los datos cambian mucho, lo cual no es bueno, ya que son inconsistetes**"
      ],
      "metadata": {
        "id": "--MUcbPdEdAg"
      }
    },
    {
      "cell_type": "markdown",
      "metadata": {
        "id": "3Dh1dhJ9ZHN6"
      },
      "source": [
        "## Paso 3: Evaluación de la Columna Response\n",
        "1. Usa `value_counts()` para ver cuántos clientes respondieron \"Yes\" y \"No\".\n",
        "2. Calcula el porcentaje de respuestas \"Yes\".\n",
        "\n",
        "Pregunta: ¿La proporción de \"Yes\" es baja? ¿Qué podría indicar esto respecto a la estrategia de respuesta?"
      ]
    },
    {
      "cell_type": "code",
      "execution_count": 24,
      "metadata": {
        "id": "UlKtfgUGZHN7",
        "outputId": "fc193b54-2a02-4b9a-9039-da8bfba1f3e1",
        "colab": {
          "base_uri": "https://localhost:8080/",
          "height": 210
        }
      },
      "outputs": [
        {
          "output_type": "stream",
          "name": "stderr",
          "text": [
            "<ipython-input-24-faa98d3b4094>:1: FutureWarning: pandas.value_counts is deprecated and will be removed in a future version. Use pd.Series(obj).value_counts() instead.\n",
            "  pd.value_counts(df['Response'])\n"
          ]
        },
        {
          "output_type": "execute_result",
          "data": {
            "text/plain": [
              "Response\n",
              "No     7826\n",
              "Yes    1308\n",
              "Name: count, dtype: int64"
            ],
            "text/html": [
              "<div>\n",
              "<style scoped>\n",
              "    .dataframe tbody tr th:only-of-type {\n",
              "        vertical-align: middle;\n",
              "    }\n",
              "\n",
              "    .dataframe tbody tr th {\n",
              "        vertical-align: top;\n",
              "    }\n",
              "\n",
              "    .dataframe thead th {\n",
              "        text-align: right;\n",
              "    }\n",
              "</style>\n",
              "<table border=\"1\" class=\"dataframe\">\n",
              "  <thead>\n",
              "    <tr style=\"text-align: right;\">\n",
              "      <th></th>\n",
              "      <th>count</th>\n",
              "    </tr>\n",
              "    <tr>\n",
              "      <th>Response</th>\n",
              "      <th></th>\n",
              "    </tr>\n",
              "  </thead>\n",
              "  <tbody>\n",
              "    <tr>\n",
              "      <th>No</th>\n",
              "      <td>7826</td>\n",
              "    </tr>\n",
              "    <tr>\n",
              "      <th>Yes</th>\n",
              "      <td>1308</td>\n",
              "    </tr>\n",
              "  </tbody>\n",
              "</table>\n",
              "</div><br><label><b>dtype:</b> int64</label>"
            ]
          },
          "metadata": {},
          "execution_count": 24
        }
      ],
      "source": [
        "pd.value_counts(df['Response'])"
      ]
    },
    {
      "cell_type": "markdown",
      "source": [
        "# **Que no està siendo efectiva**"
      ],
      "metadata": {
        "id": "2d87rAFj5CId"
      }
    },
    {
      "cell_type": "markdown",
      "metadata": {
        "id": "5Gl7vEKyZHN7"
      },
      "source": [
        "## Paso 4: Análisis de la Prima Mensual (Monthly Premium Auto) por Coverage\n",
        "1. Agrupa los datos por `Coverage` y calcula la media de `Monthly Premium Auto`.\n",
        "2. Compara los promedios obtenidos para cada tipo de Coverage.\n",
        "\n",
        "Pregunta: ¿Existen diferencias notables entre las coberturas? ¿Qué implicaciones tendría esto en la estrategia de precios?"
      ]
    },
    {
      "cell_type": "code",
      "execution_count": 89,
      "metadata": {
        "id": "yzGcyR52ZHN8",
        "outputId": "8664dcc1-ff55-4d12-f999-30914626f2e8",
        "colab": {
          "base_uri": "https://localhost:8080/",
          "height": 207
        }
      },
      "outputs": [
        {
          "output_type": "execute_result",
          "data": {
            "text/plain": [
              "Coverage\n",
              "Basic        82.173851\n",
              "Extended    103.579504\n",
              "Premium     133.381068\n",
              "Name: Monthly Premium Auto, dtype: float64"
            ],
            "text/html": [
              "<div>\n",
              "<style scoped>\n",
              "    .dataframe tbody tr th:only-of-type {\n",
              "        vertical-align: middle;\n",
              "    }\n",
              "\n",
              "    .dataframe tbody tr th {\n",
              "        vertical-align: top;\n",
              "    }\n",
              "\n",
              "    .dataframe thead th {\n",
              "        text-align: right;\n",
              "    }\n",
              "</style>\n",
              "<table border=\"1\" class=\"dataframe\">\n",
              "  <thead>\n",
              "    <tr style=\"text-align: right;\">\n",
              "      <th></th>\n",
              "      <th>Monthly Premium Auto</th>\n",
              "    </tr>\n",
              "    <tr>\n",
              "      <th>Coverage</th>\n",
              "      <th></th>\n",
              "    </tr>\n",
              "  </thead>\n",
              "  <tbody>\n",
              "    <tr>\n",
              "      <th>Basic</th>\n",
              "      <td>82.173851</td>\n",
              "    </tr>\n",
              "    <tr>\n",
              "      <th>Extended</th>\n",
              "      <td>103.579504</td>\n",
              "    </tr>\n",
              "    <tr>\n",
              "      <th>Premium</th>\n",
              "      <td>133.381068</td>\n",
              "    </tr>\n",
              "  </tbody>\n",
              "</table>\n",
              "</div><br><label><b>dtype:</b> float64</label>"
            ]
          },
          "metadata": {},
          "execution_count": 89
        }
      ],
      "source": [
        "df.groupby('Coverage')[\"Monthly Premium Auto\"].mean()"
      ]
    },
    {
      "cell_type": "markdown",
      "source": [
        "# **Hay una diferencia de 20,000 a 30,000. No habrìan mayores implicaciones, ya que las coberturas son coherentes con el tipo de carro**"
      ],
      "metadata": {
        "id": "kt6UzGr_5as2"
      }
    },
    {
      "cell_type": "markdown",
      "metadata": {
        "id": "UFsiRIveZHN8"
      },
      "source": [
        "## Paso 5: Análisis del Ingreso (Income) según EmploymentStatus\n",
        "1. Agrupa los datos por `EmploymentStatus` y calcula el ingreso promedio.\n",
        "\n",
        "Pregunta: ¿Qué diferencias encuentras entre los grupos? ¿Cómo podría influir esto en la segmentación de clientes?"
      ]
    },
    {
      "cell_type": "code",
      "execution_count": 90,
      "metadata": {
        "id": "KBd4a5TGZHN9",
        "outputId": "75cf5f59-c29f-4e6d-8206-cec977f1b26b",
        "colab": {
          "base_uri": "https://localhost:8080/",
          "height": 269
        }
      },
      "outputs": [
        {
          "output_type": "execute_result",
          "data": {
            "text/plain": [
              "EmploymentStatus\n",
              "Disabled         20045.582716\n",
              "Employed         56384.884521\n",
              "Medical Leave    20292.770833\n",
              "Retired          20554.960993\n",
              "Unemployed           0.000000\n",
              "Name: Income, dtype: float64"
            ],
            "text/html": [
              "<div>\n",
              "<style scoped>\n",
              "    .dataframe tbody tr th:only-of-type {\n",
              "        vertical-align: middle;\n",
              "    }\n",
              "\n",
              "    .dataframe tbody tr th {\n",
              "        vertical-align: top;\n",
              "    }\n",
              "\n",
              "    .dataframe thead th {\n",
              "        text-align: right;\n",
              "    }\n",
              "</style>\n",
              "<table border=\"1\" class=\"dataframe\">\n",
              "  <thead>\n",
              "    <tr style=\"text-align: right;\">\n",
              "      <th></th>\n",
              "      <th>Income</th>\n",
              "    </tr>\n",
              "    <tr>\n",
              "      <th>EmploymentStatus</th>\n",
              "      <th></th>\n",
              "    </tr>\n",
              "  </thead>\n",
              "  <tbody>\n",
              "    <tr>\n",
              "      <th>Disabled</th>\n",
              "      <td>20045.582716</td>\n",
              "    </tr>\n",
              "    <tr>\n",
              "      <th>Employed</th>\n",
              "      <td>56384.884521</td>\n",
              "    </tr>\n",
              "    <tr>\n",
              "      <th>Medical Leave</th>\n",
              "      <td>20292.770833</td>\n",
              "    </tr>\n",
              "    <tr>\n",
              "      <th>Retired</th>\n",
              "      <td>20554.960993</td>\n",
              "    </tr>\n",
              "    <tr>\n",
              "      <th>Unemployed</th>\n",
              "      <td>0.000000</td>\n",
              "    </tr>\n",
              "  </tbody>\n",
              "</table>\n",
              "</div><br><label><b>dtype:</b> float64</label>"
            ]
          },
          "metadata": {},
          "execution_count": 90
        }
      ],
      "source": [
        "df.groupby('EmploymentStatus')[\"Income\"].mean()"
      ]
    },
    {
      "cell_type": "markdown",
      "source": [
        "# **Todos los grupos tienen ingresos uniformes, a excepciòn de los empleados, ellos tienen los mayores ingresos, por lo tanto, el mayor poder adquisitivo**"
      ],
      "metadata": {
        "id": "qHt5oJfd5zqU"
      }
    },
    {
      "cell_type": "markdown",
      "metadata": {
        "id": "opvexkf8ZHN9"
      },
      "source": [
        "## Paso 6: Análisis del CLV por Estado\n",
        "1. Agrupa los datos por `State` y calcula el CLV promedio.\n",
        "\n",
        "Pregunta: ¿Qué estado muestra el mayor CLV? ¿Qué factores regionales podrían explicar esto?"
      ]
    },
    {
      "cell_type": "code",
      "execution_count": 91,
      "metadata": {
        "id": "jHYjEGLXZHN9",
        "outputId": "2f965698-e6b3-48dc-84c0-b7739449bad2",
        "colab": {
          "base_uri": "https://localhost:8080/",
          "height": 269
        }
      },
      "outputs": [
        {
          "output_type": "execute_result",
          "data": {
            "text/plain": [
              "State\n",
              "Arizona       7861.341489\n",
              "California    8003.647758\n",
              "Nevada        8056.706839\n",
              "Oregon        8077.901191\n",
              "Washington    8021.472273\n",
              "Name: Customer Lifetime Value, dtype: float64"
            ],
            "text/html": [
              "<div>\n",
              "<style scoped>\n",
              "    .dataframe tbody tr th:only-of-type {\n",
              "        vertical-align: middle;\n",
              "    }\n",
              "\n",
              "    .dataframe tbody tr th {\n",
              "        vertical-align: top;\n",
              "    }\n",
              "\n",
              "    .dataframe thead th {\n",
              "        text-align: right;\n",
              "    }\n",
              "</style>\n",
              "<table border=\"1\" class=\"dataframe\">\n",
              "  <thead>\n",
              "    <tr style=\"text-align: right;\">\n",
              "      <th></th>\n",
              "      <th>Customer Lifetime Value</th>\n",
              "    </tr>\n",
              "    <tr>\n",
              "      <th>State</th>\n",
              "      <th></th>\n",
              "    </tr>\n",
              "  </thead>\n",
              "  <tbody>\n",
              "    <tr>\n",
              "      <th>Arizona</th>\n",
              "      <td>7861.341489</td>\n",
              "    </tr>\n",
              "    <tr>\n",
              "      <th>California</th>\n",
              "      <td>8003.647758</td>\n",
              "    </tr>\n",
              "    <tr>\n",
              "      <th>Nevada</th>\n",
              "      <td>8056.706839</td>\n",
              "    </tr>\n",
              "    <tr>\n",
              "      <th>Oregon</th>\n",
              "      <td>8077.901191</td>\n",
              "    </tr>\n",
              "    <tr>\n",
              "      <th>Washington</th>\n",
              "      <td>8021.472273</td>\n",
              "    </tr>\n",
              "  </tbody>\n",
              "</table>\n",
              "</div><br><label><b>dtype:</b> float64</label>"
            ]
          },
          "metadata": {},
          "execution_count": 91
        }
      ],
      "source": [
        "df.groupby('State')[\"Customer Lifetime Value\"].mean()"
      ]
    },
    {
      "cell_type": "markdown",
      "source": [
        "# **El estado que muestra el mayor dato es el estado de Oregon**"
      ],
      "metadata": {
        "id": "h_DjJ01X6KFx"
      }
    },
    {
      "cell_type": "markdown",
      "metadata": {
        "id": "r20lS6w2ZHN9"
      },
      "source": [
        "## Paso 7: Análisis del Total Claim Amount según el Número de Pólizas\n",
        "1. Separa a los clientes con más de 1 póliza de aquellos con 1 sola póliza.\n",
        "2. Calcula el Total Claim Amount promedio para cada grupo.\n",
        "\n",
        "Pregunta: ¿Qué diferencias encuentras y qué podrían indicar respecto al riesgo y comportamiento de reclamaciones?"
      ]
    },
    {
      "cell_type": "code",
      "execution_count": 92,
      "metadata": {
        "id": "oV66YptbZHN9",
        "outputId": "e9eed7dd-f41a-4bfd-800a-402cf88377f6",
        "colab": {
          "base_uri": "https://localhost:8080/",
          "height": 393
        }
      },
      "outputs": [
        {
          "output_type": "execute_result",
          "data": {
            "text/plain": [
              "Number of Policies\n",
              "1    440.278532\n",
              "2    433.610653\n",
              "3    415.969821\n",
              "4    428.791219\n",
              "5    428.755107\n",
              "6    410.962617\n",
              "7    468.401546\n",
              "8    445.049999\n",
              "9    424.499642\n",
              "Name: Total Claim Amount, dtype: float64"
            ],
            "text/html": [
              "<div>\n",
              "<style scoped>\n",
              "    .dataframe tbody tr th:only-of-type {\n",
              "        vertical-align: middle;\n",
              "    }\n",
              "\n",
              "    .dataframe tbody tr th {\n",
              "        vertical-align: top;\n",
              "    }\n",
              "\n",
              "    .dataframe thead th {\n",
              "        text-align: right;\n",
              "    }\n",
              "</style>\n",
              "<table border=\"1\" class=\"dataframe\">\n",
              "  <thead>\n",
              "    <tr style=\"text-align: right;\">\n",
              "      <th></th>\n",
              "      <th>Total Claim Amount</th>\n",
              "    </tr>\n",
              "    <tr>\n",
              "      <th>Number of Policies</th>\n",
              "      <th></th>\n",
              "    </tr>\n",
              "  </thead>\n",
              "  <tbody>\n",
              "    <tr>\n",
              "      <th>1</th>\n",
              "      <td>440.278532</td>\n",
              "    </tr>\n",
              "    <tr>\n",
              "      <th>2</th>\n",
              "      <td>433.610653</td>\n",
              "    </tr>\n",
              "    <tr>\n",
              "      <th>3</th>\n",
              "      <td>415.969821</td>\n",
              "    </tr>\n",
              "    <tr>\n",
              "      <th>4</th>\n",
              "      <td>428.791219</td>\n",
              "    </tr>\n",
              "    <tr>\n",
              "      <th>5</th>\n",
              "      <td>428.755107</td>\n",
              "    </tr>\n",
              "    <tr>\n",
              "      <th>6</th>\n",
              "      <td>410.962617</td>\n",
              "    </tr>\n",
              "    <tr>\n",
              "      <th>7</th>\n",
              "      <td>468.401546</td>\n",
              "    </tr>\n",
              "    <tr>\n",
              "      <th>8</th>\n",
              "      <td>445.049999</td>\n",
              "    </tr>\n",
              "    <tr>\n",
              "      <th>9</th>\n",
              "      <td>424.499642</td>\n",
              "    </tr>\n",
              "  </tbody>\n",
              "</table>\n",
              "</div><br><label><b>dtype:</b> float64</label>"
            ]
          },
          "metadata": {},
          "execution_count": 92
        }
      ],
      "source": [
        "df.groupby('Number of Policies')[\"Total Claim Amount\"].mean()"
      ]
    },
    {
      "cell_type": "markdown",
      "metadata": {
        "id": "vtiPHUZiZHN-"
      },
      "source": [
        "## Paso 8: Análisis del CLV según Vehicle Class\n",
        "1. Agrupa los datos por `Vehicle Class` y calcula el CLV promedio para cada clase.\n",
        "\n",
        "Pregunta: ¿Qué clase de vehículo se asocia a un mayor CLV y qué implicaciones podría tener esto en la estrategia de producto?"
      ]
    },
    {
      "cell_type": "code",
      "execution_count": 93,
      "metadata": {
        "id": "LdzNouGbZHN-",
        "outputId": "cfcad143-2995-4641-a845-858243102bef",
        "colab": {
          "base_uri": "https://localhost:8080/",
          "height": 300
        }
      },
      "outputs": [
        {
          "output_type": "execute_result",
          "data": {
            "text/plain": [
              "Vehicle Class\n",
              "Four-Door Car     6631.726607\n",
              "Luxury Car       17053.348399\n",
              "Luxury SUV       17122.999134\n",
              "SUV              10443.511816\n",
              "Sports Car       10750.989331\n",
              "Two-Door Car      6671.030732\n",
              "Name: Customer Lifetime Value, dtype: float64"
            ],
            "text/html": [
              "<div>\n",
              "<style scoped>\n",
              "    .dataframe tbody tr th:only-of-type {\n",
              "        vertical-align: middle;\n",
              "    }\n",
              "\n",
              "    .dataframe tbody tr th {\n",
              "        vertical-align: top;\n",
              "    }\n",
              "\n",
              "    .dataframe thead th {\n",
              "        text-align: right;\n",
              "    }\n",
              "</style>\n",
              "<table border=\"1\" class=\"dataframe\">\n",
              "  <thead>\n",
              "    <tr style=\"text-align: right;\">\n",
              "      <th></th>\n",
              "      <th>Customer Lifetime Value</th>\n",
              "    </tr>\n",
              "    <tr>\n",
              "      <th>Vehicle Class</th>\n",
              "      <th></th>\n",
              "    </tr>\n",
              "  </thead>\n",
              "  <tbody>\n",
              "    <tr>\n",
              "      <th>Four-Door Car</th>\n",
              "      <td>6631.726607</td>\n",
              "    </tr>\n",
              "    <tr>\n",
              "      <th>Luxury Car</th>\n",
              "      <td>17053.348399</td>\n",
              "    </tr>\n",
              "    <tr>\n",
              "      <th>Luxury SUV</th>\n",
              "      <td>17122.999134</td>\n",
              "    </tr>\n",
              "    <tr>\n",
              "      <th>SUV</th>\n",
              "      <td>10443.511816</td>\n",
              "    </tr>\n",
              "    <tr>\n",
              "      <th>Sports Car</th>\n",
              "      <td>10750.989331</td>\n",
              "    </tr>\n",
              "    <tr>\n",
              "      <th>Two-Door Car</th>\n",
              "      <td>6671.030732</td>\n",
              "    </tr>\n",
              "  </tbody>\n",
              "</table>\n",
              "</div><br><label><b>dtype:</b> float64</label>"
            ]
          },
          "metadata": {},
          "execution_count": 93
        }
      ],
      "source": [
        "df.groupby('Vehicle Class')[\"Customer Lifetime Value\"].mean()"
      ]
    },
    {
      "cell_type": "markdown",
      "source": [
        "# **Las luxury SUV's es la categorìa que tiene el CLV màs alto**"
      ],
      "metadata": {
        "id": "mE3R-DCp6rUi"
      }
    },
    {
      "cell_type": "markdown",
      "metadata": {
        "id": "VCd_L8qhZHN-"
      },
      "source": [
        "## Paso 9: Análisis de Months Since Last Claim según Education\n",
        "1. Agrupa los datos por `Education` y calcula el promedio de `Months Since Last Claim`.\n",
        "\n",
        "Pregunta: ¿Existen diferencias notables entre los niveles educativos? ¿Qué podría indicar sobre la gestión de reclamos?"
      ]
    },
    {
      "cell_type": "code",
      "execution_count": 95,
      "metadata": {
        "id": "D7AIwvBOZHN-",
        "outputId": "4a398adb-7f54-4563-d36c-2a2d48f0f81f",
        "colab": {
          "base_uri": "https://localhost:8080/",
          "height": 269
        }
      },
      "outputs": [
        {
          "output_type": "execute_result",
          "data": {
            "text/plain": [
              "Education\n",
              "Bachelor                14.834789\n",
              "College                 15.432301\n",
              "Doctor                  15.260234\n",
              "High School or Below    14.978642\n",
              "Master                  15.199730\n",
              "Name: Months Since Last Claim, dtype: float64"
            ],
            "text/html": [
              "<div>\n",
              "<style scoped>\n",
              "    .dataframe tbody tr th:only-of-type {\n",
              "        vertical-align: middle;\n",
              "    }\n",
              "\n",
              "    .dataframe tbody tr th {\n",
              "        vertical-align: top;\n",
              "    }\n",
              "\n",
              "    .dataframe thead th {\n",
              "        text-align: right;\n",
              "    }\n",
              "</style>\n",
              "<table border=\"1\" class=\"dataframe\">\n",
              "  <thead>\n",
              "    <tr style=\"text-align: right;\">\n",
              "      <th></th>\n",
              "      <th>Months Since Last Claim</th>\n",
              "    </tr>\n",
              "    <tr>\n",
              "      <th>Education</th>\n",
              "      <th></th>\n",
              "    </tr>\n",
              "  </thead>\n",
              "  <tbody>\n",
              "    <tr>\n",
              "      <th>Bachelor</th>\n",
              "      <td>14.834789</td>\n",
              "    </tr>\n",
              "    <tr>\n",
              "      <th>College</th>\n",
              "      <td>15.432301</td>\n",
              "    </tr>\n",
              "    <tr>\n",
              "      <th>Doctor</th>\n",
              "      <td>15.260234</td>\n",
              "    </tr>\n",
              "    <tr>\n",
              "      <th>High School or Below</th>\n",
              "      <td>14.978642</td>\n",
              "    </tr>\n",
              "    <tr>\n",
              "      <th>Master</th>\n",
              "      <td>15.199730</td>\n",
              "    </tr>\n",
              "  </tbody>\n",
              "</table>\n",
              "</div><br><label><b>dtype:</b> float64</label>"
            ]
          },
          "metadata": {},
          "execution_count": 95
        }
      ],
      "source": [
        "df.groupby('Education')['Months Since Last Claim'].mean()\n"
      ]
    },
    {
      "cell_type": "markdown",
      "source": [
        "# **No hay una diferencia notable**"
      ],
      "metadata": {
        "id": "12vqz5887AGx"
      }
    },
    {
      "cell_type": "markdown",
      "metadata": {
        "id": "cQfegNw8ZHN-"
      },
      "source": [
        "## Paso 10: Análisis del Income según Marital Status y Gender\n",
        "1. Realiza una segmentación cruzada agrupando por `Marital Status` y `Gender` para calcular el ingreso promedio.\n",
        "\n",
        "Pregunta: ¿Qué diferencias observas? ¿Cómo podrían influir estas diferencias en la estrategia de segmentación de clientes?"
      ]
    },
    {
      "cell_type": "code",
      "execution_count": 96,
      "metadata": {
        "id": "ZlHKlPVjZHN-",
        "outputId": "aafad317-b6dd-448c-8d16-4b25a15e979c",
        "colab": {
          "base_uri": "https://localhost:8080/",
          "height": 300
        }
      },
      "outputs": [
        {
          "output_type": "execute_result",
          "data": {
            "text/plain": [
              "Marital Status  Gender\n",
              "Divorced        F         37913.709450\n",
              "                M         43681.934848\n",
              "Married         F         44276.994962\n",
              "                M         43304.110361\n",
              "Single          F         23573.758120\n",
              "                M         22005.776407\n",
              "Name: Income, dtype: float64"
            ],
            "text/html": [
              "<div>\n",
              "<style scoped>\n",
              "    .dataframe tbody tr th:only-of-type {\n",
              "        vertical-align: middle;\n",
              "    }\n",
              "\n",
              "    .dataframe tbody tr th {\n",
              "        vertical-align: top;\n",
              "    }\n",
              "\n",
              "    .dataframe thead th {\n",
              "        text-align: right;\n",
              "    }\n",
              "</style>\n",
              "<table border=\"1\" class=\"dataframe\">\n",
              "  <thead>\n",
              "    <tr style=\"text-align: right;\">\n",
              "      <th></th>\n",
              "      <th></th>\n",
              "      <th>Income</th>\n",
              "    </tr>\n",
              "    <tr>\n",
              "      <th>Marital Status</th>\n",
              "      <th>Gender</th>\n",
              "      <th></th>\n",
              "    </tr>\n",
              "  </thead>\n",
              "  <tbody>\n",
              "    <tr>\n",
              "      <th rowspan=\"2\" valign=\"top\">Divorced</th>\n",
              "      <th>F</th>\n",
              "      <td>37913.709450</td>\n",
              "    </tr>\n",
              "    <tr>\n",
              "      <th>M</th>\n",
              "      <td>43681.934848</td>\n",
              "    </tr>\n",
              "    <tr>\n",
              "      <th rowspan=\"2\" valign=\"top\">Married</th>\n",
              "      <th>F</th>\n",
              "      <td>44276.994962</td>\n",
              "    </tr>\n",
              "    <tr>\n",
              "      <th>M</th>\n",
              "      <td>43304.110361</td>\n",
              "    </tr>\n",
              "    <tr>\n",
              "      <th rowspan=\"2\" valign=\"top\">Single</th>\n",
              "      <th>F</th>\n",
              "      <td>23573.758120</td>\n",
              "    </tr>\n",
              "    <tr>\n",
              "      <th>M</th>\n",
              "      <td>22005.776407</td>\n",
              "    </tr>\n",
              "  </tbody>\n",
              "</table>\n",
              "</div><br><label><b>dtype:</b> float64</label>"
            ]
          },
          "metadata": {},
          "execution_count": 96
        }
      ],
      "source": [
        "df.groupby(['Marital Status', 'Gender'])[\"Income\"].mean()"
      ]
    },
    {
      "cell_type": "markdown",
      "source": [
        "# **Las personas solteras son las que menos ingresos tienen, por lo cual, deberìan enfocarse en las parejas, ya que es el. grupocon ingresos màs altos, seguido del grupo de divorciados**"
      ],
      "metadata": {
        "id": "vrT8-7qH7JZF"
      }
    },
    {
      "cell_type": "markdown",
      "metadata": {
        "id": "qbvaFaJqZHN-"
      },
      "source": [
        "## Paso 11: Distribución de la Columna Response\n",
        "1. Usa `value_counts()` para mostrar cuántos clientes hay en cada grupo de Response.\n",
        "\n",
        "Pregunta: ¿La distribución de respuestas sugiere que se debe ajustar la estrategia de comunicación?"
      ]
    },
    {
      "cell_type": "code",
      "execution_count": 102,
      "metadata": {
        "id": "p5KLnw5oZHN-",
        "outputId": "97126589-4e28-4e77-81f3-2cd907507ec3",
        "colab": {
          "base_uri": "https://localhost:8080/",
          "height": 210
        }
      },
      "outputs": [
        {
          "output_type": "stream",
          "name": "stderr",
          "text": [
            "<ipython-input-102-faa98d3b4094>:1: FutureWarning: pandas.value_counts is deprecated and will be removed in a future version. Use pd.Series(obj).value_counts() instead.\n",
            "  pd.value_counts(df['Response'])\n"
          ]
        },
        {
          "output_type": "execute_result",
          "data": {
            "text/plain": [
              "Response\n",
              "No     7826\n",
              "Yes    1308\n",
              "Name: count, dtype: int64"
            ],
            "text/html": [
              "<div>\n",
              "<style scoped>\n",
              "    .dataframe tbody tr th:only-of-type {\n",
              "        vertical-align: middle;\n",
              "    }\n",
              "\n",
              "    .dataframe tbody tr th {\n",
              "        vertical-align: top;\n",
              "    }\n",
              "\n",
              "    .dataframe thead th {\n",
              "        text-align: right;\n",
              "    }\n",
              "</style>\n",
              "<table border=\"1\" class=\"dataframe\">\n",
              "  <thead>\n",
              "    <tr style=\"text-align: right;\">\n",
              "      <th></th>\n",
              "      <th>count</th>\n",
              "    </tr>\n",
              "    <tr>\n",
              "      <th>Response</th>\n",
              "      <th></th>\n",
              "    </tr>\n",
              "  </thead>\n",
              "  <tbody>\n",
              "    <tr>\n",
              "      <th>No</th>\n",
              "      <td>7826</td>\n",
              "    </tr>\n",
              "    <tr>\n",
              "      <th>Yes</th>\n",
              "      <td>1308</td>\n",
              "    </tr>\n",
              "  </tbody>\n",
              "</table>\n",
              "</div><br><label><b>dtype:</b> int64</label>"
            ]
          },
          "metadata": {},
          "execution_count": 102
        }
      ],
      "source": [
        "pd.value_counts(df['Response'])"
      ]
    },
    {
      "cell_type": "markdown",
      "source": [
        "# **Sì, debe ajustarse**"
      ],
      "metadata": {
        "id": "d5dIbDyf7o9n"
      }
    },
    {
      "cell_type": "markdown",
      "metadata": {
        "id": "R6SPMEuMZHN_"
      },
      "source": [
        "## Paso 12: Análisis de Quejas Abiertas por Coverage\n",
        "1. Agrupa los datos por `Coverage` y calcula el número promedio de quejas abiertas (`Number of Open Complaints`).\n",
        "\n",
        "Pregunta: ¿Existen coberturas con un número de quejas significativamente mayor? ¿Qué acciones se podrían tomar?"
      ]
    },
    {
      "cell_type": "code",
      "execution_count": 99,
      "metadata": {
        "id": "6rIalm7TZHN_",
        "outputId": "5eede4d0-dbbb-4c9d-ac5e-7df3a68d463c",
        "colab": {
          "base_uri": "https://localhost:8080/",
          "height": 207
        }
      },
      "outputs": [
        {
          "output_type": "execute_result",
          "data": {
            "text/plain": [
              "Coverage\n",
              "Basic       0.384698\n",
              "Extended    0.398979\n",
              "Premium     0.333738\n",
              "Name: Number of Open Complaints, dtype: float64"
            ],
            "text/html": [
              "<div>\n",
              "<style scoped>\n",
              "    .dataframe tbody tr th:only-of-type {\n",
              "        vertical-align: middle;\n",
              "    }\n",
              "\n",
              "    .dataframe tbody tr th {\n",
              "        vertical-align: top;\n",
              "    }\n",
              "\n",
              "    .dataframe thead th {\n",
              "        text-align: right;\n",
              "    }\n",
              "</style>\n",
              "<table border=\"1\" class=\"dataframe\">\n",
              "  <thead>\n",
              "    <tr style=\"text-align: right;\">\n",
              "      <th></th>\n",
              "      <th>Number of Open Complaints</th>\n",
              "    </tr>\n",
              "    <tr>\n",
              "      <th>Coverage</th>\n",
              "      <th></th>\n",
              "    </tr>\n",
              "  </thead>\n",
              "  <tbody>\n",
              "    <tr>\n",
              "      <th>Basic</th>\n",
              "      <td>0.384698</td>\n",
              "    </tr>\n",
              "    <tr>\n",
              "      <th>Extended</th>\n",
              "      <td>0.398979</td>\n",
              "    </tr>\n",
              "    <tr>\n",
              "      <th>Premium</th>\n",
              "      <td>0.333738</td>\n",
              "    </tr>\n",
              "  </tbody>\n",
              "</table>\n",
              "</div><br><label><b>dtype:</b> float64</label>"
            ]
          },
          "metadata": {},
          "execution_count": 99
        }
      ],
      "source": [
        "df.groupby('Coverage')[\"Number of Open Complaints\"].mean()"
      ]
    },
    {
      "cell_type": "markdown",
      "source": [
        "# **Hay una diferencia significativa entre las coberturas extendidas y las premium. Recomendarìa reducir el tiempo de a cobertura extendida**"
      ],
      "metadata": {
        "id": "E3NQZHNf79FK"
      }
    },
    {
      "cell_type": "markdown",
      "metadata": {
        "id": "d7wQ2NncZHN_"
      },
      "source": [
        "## Paso 13: Análisis de la Antigüedad de las Pólizas según EmploymentStatus\n",
        "1. Agrupa por `EmploymentStatus` y calcula el promedio de `Months Since Policy Inception`.\n",
        "\n",
        "Pregunta: ¿Existe alguna relación entre el estado laboral y la antigüedad de las pólizas? ¿Qué podría implicar esto en la estabilidad del cliente?"
      ]
    },
    {
      "cell_type": "code",
      "execution_count": 100,
      "metadata": {
        "id": "3DvT3EAnZHN_",
        "outputId": "100a1824-a421-4004-9921-6ff4827f74b5",
        "colab": {
          "base_uri": "https://localhost:8080/",
          "height": 269
        }
      },
      "outputs": [
        {
          "output_type": "execute_result",
          "data": {
            "text/plain": [
              "EmploymentStatus\n",
              "Disabled         47.469136\n",
              "Employed         47.800456\n",
              "Medical Leave    48.141204\n",
              "Retired          48.531915\n",
              "Unemployed       48.747087\n",
              "Name: Months Since Policy Inception, dtype: float64"
            ],
            "text/html": [
              "<div>\n",
              "<style scoped>\n",
              "    .dataframe tbody tr th:only-of-type {\n",
              "        vertical-align: middle;\n",
              "    }\n",
              "\n",
              "    .dataframe tbody tr th {\n",
              "        vertical-align: top;\n",
              "    }\n",
              "\n",
              "    .dataframe thead th {\n",
              "        text-align: right;\n",
              "    }\n",
              "</style>\n",
              "<table border=\"1\" class=\"dataframe\">\n",
              "  <thead>\n",
              "    <tr style=\"text-align: right;\">\n",
              "      <th></th>\n",
              "      <th>Months Since Policy Inception</th>\n",
              "    </tr>\n",
              "    <tr>\n",
              "      <th>EmploymentStatus</th>\n",
              "      <th></th>\n",
              "    </tr>\n",
              "  </thead>\n",
              "  <tbody>\n",
              "    <tr>\n",
              "      <th>Disabled</th>\n",
              "      <td>47.469136</td>\n",
              "    </tr>\n",
              "    <tr>\n",
              "      <th>Employed</th>\n",
              "      <td>47.800456</td>\n",
              "    </tr>\n",
              "    <tr>\n",
              "      <th>Medical Leave</th>\n",
              "      <td>48.141204</td>\n",
              "    </tr>\n",
              "    <tr>\n",
              "      <th>Retired</th>\n",
              "      <td>48.531915</td>\n",
              "    </tr>\n",
              "    <tr>\n",
              "      <th>Unemployed</th>\n",
              "      <td>48.747087</td>\n",
              "    </tr>\n",
              "  </tbody>\n",
              "</table>\n",
              "</div><br><label><b>dtype:</b> float64</label>"
            ]
          },
          "metadata": {},
          "execution_count": 100
        }
      ],
      "source": [
        "df.groupby('EmploymentStatus')[\"Months Since Policy Inception\"].mean()"
      ]
    },
    {
      "cell_type": "markdown",
      "source": [
        "# **No se ve una diferencia notoria**"
      ],
      "metadata": {
        "id": "9iWNQ1Oc8opm"
      }
    },
    {
      "cell_type": "markdown",
      "metadata": {
        "id": "S_pRUmAsZHN_"
      },
      "source": [
        "## Paso 14: Análisis del Total Claim Amount según Policy Type\n",
        "1. Agrupa por `Policy Type` y calcula el Total Claim Amount promedio para cada tipo de póliza.\n",
        "\n",
        "Pregunta: ¿Qué diferencias se observan entre los tipos de póliza y qué podrían implicar en términos de riesgo y eficiencia operativa?"
      ]
    },
    {
      "cell_type": "code",
      "execution_count": 101,
      "metadata": {
        "id": "0q5ZwE_jZHN_",
        "outputId": "7a69e204-7287-4579-cdd0-da701a79fa91",
        "colab": {
          "base_uri": "https://localhost:8080/",
          "height": 207
        }
      },
      "outputs": [
        {
          "output_type": "execute_result",
          "data": {
            "text/plain": [
              "Policy Type\n",
              "Corporate Auto    430.312188\n",
              "Personal Auto     434.828219\n",
              "Special Auto      440.472770\n",
              "Name: Total Claim Amount, dtype: float64"
            ],
            "text/html": [
              "<div>\n",
              "<style scoped>\n",
              "    .dataframe tbody tr th:only-of-type {\n",
              "        vertical-align: middle;\n",
              "    }\n",
              "\n",
              "    .dataframe tbody tr th {\n",
              "        vertical-align: top;\n",
              "    }\n",
              "\n",
              "    .dataframe thead th {\n",
              "        text-align: right;\n",
              "    }\n",
              "</style>\n",
              "<table border=\"1\" class=\"dataframe\">\n",
              "  <thead>\n",
              "    <tr style=\"text-align: right;\">\n",
              "      <th></th>\n",
              "      <th>Total Claim Amount</th>\n",
              "    </tr>\n",
              "    <tr>\n",
              "      <th>Policy Type</th>\n",
              "      <th></th>\n",
              "    </tr>\n",
              "  </thead>\n",
              "  <tbody>\n",
              "    <tr>\n",
              "      <th>Corporate Auto</th>\n",
              "      <td>430.312188</td>\n",
              "    </tr>\n",
              "    <tr>\n",
              "      <th>Personal Auto</th>\n",
              "      <td>434.828219</td>\n",
              "    </tr>\n",
              "    <tr>\n",
              "      <th>Special Auto</th>\n",
              "      <td>440.472770</td>\n",
              "    </tr>\n",
              "  </tbody>\n",
              "</table>\n",
              "</div><br><label><b>dtype:</b> float64</label>"
            ]
          },
          "metadata": {},
          "execution_count": 101
        }
      ],
      "source": [
        "df.groupby('Policy Type')[\"Total Claim Amount\"].mean()"
      ]
    },
    {
      "cell_type": "markdown",
      "source": [
        "# **Los carros que ofrecen la mayor eficienci operativa son los autos corporativos. Deberìan enfocarse en estos**"
      ],
      "metadata": {
        "id": "WIBCu7Tc9QdP"
      }
    },
    {
      "cell_type": "markdown",
      "metadata": {
        "id": "dv45Mm6LZHN_"
      },
      "source": [
        "## Caso de Negocio: Evaluación de la Inversión en Marketing\n",
        "\n",
        "### Contexto:\n",
        "Una compañía de seguros ha asignado un presupuesto ficticio de **$5,000,000** para campañas de adquisición. El objetivo es evaluar la rentabilidad de la inversión comparando el gasto de marketing ( 50000000) (CAC) con el Customer Lifetime Value (CLV) obtenido.\n",
        "\n",
        "### Tareas:\n",
        "1. Utiliza el CLV promedio obtenido en el Paso 2.\n",
        "2. Calcula el CAC promedio dividiendo el presupuesto de marketing entre el número total de clientes.\n",
        "3. Compara el CAC promedio con el CLV promedio y responde:\n",
        "   - ¿El CAC es inferior al CLV, lo que justificaría la inversión?\n",
        "   - ¿Qué porcentaje del CLV representa el CAC?\n",
        "\n",
        "_Reflexión estratégica: Si el CAC es significativamente menor que el CLV, la inversión en marketing es rentable. De lo contrario, se deberá replantear la estrategia de adquisición._"
      ]
    },
    {
      "cell_type": "code",
      "source": [
        "# presupuesto de marketing\n",
        "marketing_budget = 5000000\n",
        "\n",
        "# Número total de clientes\n",
        "total_customers = len(df)\n",
        "\n",
        "# Calcular el CAC promedio\n",
        "cac = marketing_budget / total_customers\n",
        "\n",
        "# Comparar CAC con CLV\n",
        "print(f\"CAC promedio: ${cac:.2f}\")\n",
        "print(f\"CLV promedio: ${clv_mean:.2f}\")\n",
        "\n",
        "if cac < clv_mean:\n",
        "    print(\"El CAC es inferior al CLV, lo que justificaría la inversión.\")\n",
        "else:\n",
        "    print(\"El CAC es mayor o igual al CLV, se debe replantear la estrategia.\")\n",
        "\n",
        "cac_percentage_of_clv = (cac / clv_mean) * 100\n",
        "print(f\"El CAC representa el {cac_percentage_of_clv:.2f}% del CLV.\")\n"
      ],
      "metadata": {
        "id": "RBRUwb8OcE9P",
        "outputId": "164492e8-0b6b-41c9-d90c-09037d92164f",
        "colab": {
          "base_uri": "https://localhost:8080/"
        }
      },
      "execution_count": 104,
      "outputs": [
        {
          "output_type": "stream",
          "name": "stdout",
          "text": [
            "CAC promedio: $547.41\n",
            "CLV promedio: $8004.94\n",
            "El CAC es inferior al CLV, lo que justificaría la inversión.\n",
            "El CAC representa el 6.84% del CLV.\n"
          ]
        }
      ]
    },
    {
      "cell_type": "code",
      "source": [],
      "metadata": {
        "id": "x0huXHVpcE5y"
      },
      "execution_count": null,
      "outputs": []
    },
    {
      "cell_type": "code",
      "source": [],
      "metadata": {
        "id": "2LLYny3xcHvo"
      },
      "execution_count": null,
      "outputs": []
    },
    {
      "cell_type": "code",
      "source": [],
      "metadata": {
        "id": "w7Z4XhIYcaNq"
      },
      "execution_count": null,
      "outputs": []
    },
    {
      "cell_type": "code",
      "source": [],
      "metadata": {
        "id": "LwTjvOmAcHhU"
      },
      "execution_count": null,
      "outputs": []
    },
    {
      "cell_type": "markdown",
      "source": [
        "### **Bonus:** Teniendo lo anterior en cual es la proporcion de clientes rentables"
      ],
      "metadata": {
        "id": "jxs59vjXa7RK"
      }
    },
    {
      "cell_type": "code",
      "source": [
        "# prompt: Teniendo lo anterior en cual es la proporcion de clientes rentables\n",
        "\n",
        "# Calculate the number of profitable customers\n",
        "profitable_customers = len(df[df['Customer Lifetime Value'] > cac])\n",
        "\n",
        "# Calculate the proportion of profitable customers\n",
        "proportion_profitable_customers = (profitable_customers / total_customers) * 100\n",
        "\n",
        "print(f\"Proporción de clientes rentables: {proportion_profitable_customers:.2f}%\")\n"
      ],
      "metadata": {
        "id": "t9RTzcoIazea",
        "outputId": "ee9fd0eb-8b38-4d07-ecad-adcccb0bf65d",
        "colab": {
          "base_uri": "https://localhost:8080/"
        }
      },
      "execution_count": 105,
      "outputs": [
        {
          "output_type": "stream",
          "name": "stdout",
          "text": [
            "Proporción de clientes rentables: 100.00%\n"
          ]
        }
      ]
    },
    {
      "cell_type": "markdown",
      "metadata": {
        "id": "ICF1oz4cZHN_"
      },
      "source": [
        "## Conclusiones y Recomendaciones\n",
        "\n",
        "### **Bonus 2:** En no más de un parrafo mencione 3 acciones concretas para mejorar los reusltados de la empresa.\n"
      ]
    },
    {
      "cell_type": "code",
      "source": [
        "Se recomienda:\n",
        "1) segmentar mejor a los clientes, enfocándose en aquellos con mayor CLV y menor CAC, para optimizar el gasto en marketing;\n",
        "2) analizar la correlación entre el número de pólizas y el monto total de reclamos para ajustar las primas y mitigar el riesgo;\n",
        "3) investigar las razones por las que existe un bajo porcentaje de respuestas positivas a las campañas, y realizar mejoras en la comunicación para aumentar la tasa de conversión.\n"
      ],
      "metadata": {
        "id": "N6IpeZWgcb2F"
      },
      "execution_count": null,
      "outputs": []
    }
  ],
  "metadata": {
    "colab": {
      "provenance": []
    },
    "kernelspec": {
      "display_name": "Python 3",
      "language": "python",
      "name": "python3"
    },
    "language_info": {
      "name": "python"
    }
  },
  "nbformat": 4,
  "nbformat_minor": 0
}